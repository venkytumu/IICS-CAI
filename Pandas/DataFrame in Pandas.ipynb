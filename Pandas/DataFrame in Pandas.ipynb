{
 "cells": [
  {
   "cell_type": "markdown",
   "id": "8d098514-bd50-4947-b7ea-150a2639c6eb",
   "metadata": {},
   "source": [
    "DataFrames in Pandas can be created using:\n",
    "i)Dictionary\n",
    "ii)Numpy arrays\n",
    "iii)Series\n",
    "iv)Lists"
   ]
  },
  {
   "cell_type": "markdown",
   "id": "12a85b5a-1b6d-4f93-97dd-11892781de0c",
   "metadata": {},
   "source": [
    "DataFrames in Pandas can be created using:\n",
    "i)Dictionary\n",
    "ii)Numpy arrays\n",
    "iii)Series\n",
    "iv)Lists"
   ]
  },
  {
   "cell_type": "code",
   "execution_count": 4,
   "id": "e45364bb-14b8-401c-889b-c752fd3c08cb",
   "metadata": {},
   "outputs": [
    {
     "name": "stdout",
     "output_type": "stream",
     "text": [
      "Empty DataFrame\n",
      "Columns: []\n",
      "Index: []\n"
     ]
    }
   ],
   "source": [
    "#creating an empty cell\n",
    "import pandas as pd\n",
    "df = pd.DataFrame()\n",
    "print(df)"
   ]
  },
  {
   "cell_type": "markdown",
   "id": "d63e540f-15db-4fa0-8dce-a2ec82546c9f",
   "metadata": {},
   "source": [
    "Creating a DataFrame using List"
   ]
  },
  {
   "cell_type": "code",
   "execution_count": 5,
   "id": "2817beb8-c370-4bda-9a9d-583deaa410b3",
   "metadata": {},
   "outputs": [
    {
     "name": "stdout",
     "output_type": "stream",
     "text": [
      "        0\n",
      "0  Python\n",
      "1  Pandas\n"
     ]
    }
   ],
   "source": [
    "import pandas as pd\n",
    "list = ['Python','Pandas']\n",
    "df = pd.DataFrame(list)\n",
    "print(df)"
   ]
  },
  {
   "cell_type": "markdown",
   "id": "002d0092-bd7b-4fca-b953-3a97757ae2c0",
   "metadata": {},
   "source": [
    "Creating a DataFrame using Dict of ndarrays/Lists"
   ]
  },
  {
   "cell_type": "code",
   "execution_count": 6,
   "id": "a6989c19-b3cd-4959-8c88-764612a1765a",
   "metadata": {},
   "outputs": [
    {
     "name": "stdout",
     "output_type": "stream",
     "text": [
      "    ID     Name\n",
      "0  101     Ravi\n",
      "1  102   Harish\n",
      "2  103  Pradeep\n"
     ]
    }
   ],
   "source": [
    "import pandas as pd\n",
    "emp = { 'ID':[101,102,103] , 'Name':[\"Ravi\",\"Harish\",\"Pradeep\"]}\n",
    "df = pd.DataFrame(emp)\n",
    "print(df)"
   ]
  },
  {
   "cell_type": "markdown",
   "id": "7d305fe5-f60e-4624-9796-e110013e5f35",
   "metadata": {},
   "source": [
    "Creating a DataFrame using the Dict of Series"
   ]
  },
  {
   "cell_type": "code",
   "execution_count": 7,
   "id": "baf56aba-6f46-43e8-9d15-22e418ba2b6a",
   "metadata": {},
   "outputs": [
    {
     "name": "stdout",
     "output_type": "stream",
     "text": [
      "   one  two\n",
      "a  1.0    1\n",
      "b  2.0    2\n",
      "c  3.0    3\n",
      "d  4.0    4\n",
      "e  5.0    5\n",
      "f  6.0    6\n",
      "g  NaN    7\n",
      "h  NaN    8\n"
     ]
    }
   ],
   "source": [
    "import pandas as pd  \n",
    "  \n",
    "info = {'one' : pd.Series([1, 2, 3, 4, 5, 6], index=['a', 'b', 'c', 'd', 'e', 'f']),  \n",
    "   'two' : pd.Series([1, 2, 3, 4, 5, 6, 7, 8], index=['a', 'b', 'c', 'd', 'e', 'f', 'g', 'h'])}  \n",
    "  \n",
    "d1 = pd.DataFrame(info)  \n",
    "print (d1)  "
   ]
  },
  {
   "cell_type": "code",
   "execution_count": 10,
   "id": "62aaf158-dbc9-4cc8-ac7c-be1d833ff5f4",
   "metadata": {},
   "outputs": [
    {
     "name": "stdout",
     "output_type": "stream",
     "text": [
      "   one  two\n",
      "a  1.0    1\n",
      "b  2.0    2\n",
      "c  3.0    3\n",
      "d  4.0    4\n",
      "e  5.0    5\n",
      "f  6.0    6\n",
      "g  NaN    7\n",
      "h  NaN    8\n",
      "\n",
      "\n",
      "a    1.0\n",
      "b    2.0\n",
      "c    3.0\n",
      "d    4.0\n",
      "e    5.0\n",
      "f    6.0\n",
      "g    NaN\n",
      "h    NaN\n",
      "Name: one, dtype: float64\n"
     ]
    }
   ],
   "source": [
    "#Column Selection from the dataframe\n",
    "print(d1)\n",
    "print()\n",
    "print()\n",
    "print(d1['one'])"
   ]
  },
  {
   "cell_type": "code",
   "execution_count": 12,
   "id": "1c239547-51d5-4f64-ab2e-3e748100820d",
   "metadata": {},
   "outputs": [
    {
     "name": "stdout",
     "output_type": "stream",
     "text": [
      "Adding the third column to the dataframe d1\n",
      "   one  two  three\n",
      "a  1.0    1    2.0\n",
      "b  2.0    2    5.0\n",
      "c  3.0    3    7.0\n",
      "d  4.0    4    8.0\n",
      "e  5.0    5    NaN\n",
      "f  6.0    6    NaN\n",
      "g  NaN    7    NaN\n",
      "h  NaN    8    NaN\n"
     ]
    }
   ],
   "source": [
    "#Column Addition for the dataframe\n",
    "print(\"Adding the third column to the dataframe d1\")\n",
    "d1['three'] = pd.Series([2,5,7,8],index = ['a','b','c','d'])\n",
    "print(d1)"
   ]
  },
  {
   "cell_type": "code",
   "execution_count": 13,
   "id": "ed86702e-cc81-41fe-a201-19fe0f7bd164",
   "metadata": {},
   "outputs": [
    {
     "name": "stdout",
     "output_type": "stream",
     "text": [
      "Adding the fourth column to the dataframe d1\n",
      "   one  two  three  four\n",
      "a  1.0    1    2.0   2.0\n",
      "b  2.0    2    5.0   4.0\n",
      "c  3.0    3    7.0   6.0\n",
      "d  4.0    4    8.0   8.0\n",
      "e  5.0    5    NaN  10.0\n",
      "f  6.0    6    NaN  12.0\n",
      "g  NaN    7    NaN   NaN\n",
      "h  NaN    8    NaN   NaN\n"
     ]
    }
   ],
   "source": [
    "#Adding one more column to the dataframe\n",
    "print(\"Adding the fourth column to the dataframe d1\")\n",
    "d1['four'] = d1['one']+d1['two']\n",
    "print(d1)"
   ]
  },
  {
   "cell_type": "code",
   "execution_count": 15,
   "id": "02089111-ded9-47aa-8dbc-03f1c165f7bb",
   "metadata": {},
   "outputs": [
    {
     "name": "stdout",
     "output_type": "stream",
     "text": [
      "   one  two  three  four\n",
      "a  1.0    1    2.0   2.0\n",
      "b  2.0    2    5.0   4.0\n",
      "c  3.0    3    7.0   6.0\n",
      "d  4.0    4    8.0   8.0\n",
      "e  5.0    5    NaN  10.0\n",
      "f  6.0    6    NaN  12.0\n",
      "g  NaN    7    NaN   NaN\n",
      "h  NaN    8    NaN   NaN\n",
      "\n",
      "\n",
      "   one  two  three\n",
      "a  1.0    1    2.0\n",
      "b  2.0    2    5.0\n",
      "c  3.0    3    7.0\n",
      "d  4.0    4    8.0\n",
      "e  5.0    5    NaN\n",
      "f  6.0    6    NaN\n",
      "g  NaN    7    NaN\n",
      "h  NaN    8    NaN\n"
     ]
    }
   ],
   "source": [
    "#Column deletion in dataframe\n",
    "print(d1)\n",
    "print()\n",
    "print()\n",
    "del d1['four']\n",
    "print(d1)"
   ]
  },
  {
   "cell_type": "code",
   "execution_count": 17,
   "id": "c17d6e39-1f6f-49d7-a63a-39be31f1ab8c",
   "metadata": {},
   "outputs": [
    {
     "name": "stdout",
     "output_type": "stream",
     "text": [
      "   one  three\n",
      "a  1.0    2.0\n",
      "b  2.0    5.0\n",
      "c  3.0    7.0\n",
      "d  4.0    8.0\n",
      "e  5.0    NaN\n",
      "f  6.0    NaN\n",
      "g  NaN    NaN\n",
      "h  NaN    NaN\n",
      "\n"
     ]
    },
    {
     "ename": "KeyError",
     "evalue": "'two'",
     "output_type": "error",
     "traceback": [
      "\u001b[1;31m---------------------------------------------------------------------------\u001b[0m",
      "\u001b[1;31mKeyError\u001b[0m                                  Traceback (most recent call last)",
      "File \u001b[1;32m~\\AppData\\Local\\Programs\\Python\\Python310\\lib\\site-packages\\pandas\\core\\indexes\\base.py:3791\u001b[0m, in \u001b[0;36mIndex.get_loc\u001b[1;34m(self, key)\u001b[0m\n\u001b[0;32m   3790\u001b[0m \u001b[38;5;28;01mtry\u001b[39;00m:\n\u001b[1;32m-> 3791\u001b[0m     \u001b[38;5;28;01mreturn\u001b[39;00m \u001b[38;5;28;43mself\u001b[39;49m\u001b[38;5;241;43m.\u001b[39;49m\u001b[43m_engine\u001b[49m\u001b[38;5;241;43m.\u001b[39;49m\u001b[43mget_loc\u001b[49m\u001b[43m(\u001b[49m\u001b[43mcasted_key\u001b[49m\u001b[43m)\u001b[49m\n\u001b[0;32m   3792\u001b[0m \u001b[38;5;28;01mexcept\u001b[39;00m \u001b[38;5;167;01mKeyError\u001b[39;00m \u001b[38;5;28;01mas\u001b[39;00m err:\n",
      "File \u001b[1;32mindex.pyx:152\u001b[0m, in \u001b[0;36mpandas._libs.index.IndexEngine.get_loc\u001b[1;34m()\u001b[0m\n",
      "File \u001b[1;32mindex.pyx:181\u001b[0m, in \u001b[0;36mpandas._libs.index.IndexEngine.get_loc\u001b[1;34m()\u001b[0m\n",
      "File \u001b[1;32mpandas\\_libs\\hashtable_class_helper.pxi:7080\u001b[0m, in \u001b[0;36mpandas._libs.hashtable.PyObjectHashTable.get_item\u001b[1;34m()\u001b[0m\n",
      "File \u001b[1;32mpandas\\_libs\\hashtable_class_helper.pxi:7088\u001b[0m, in \u001b[0;36mpandas._libs.hashtable.PyObjectHashTable.get_item\u001b[1;34m()\u001b[0m\n",
      "\u001b[1;31mKeyError\u001b[0m: 'two'",
      "\nThe above exception was the direct cause of the following exception:\n",
      "\u001b[1;31mKeyError\u001b[0m                                  Traceback (most recent call last)",
      "Cell \u001b[1;32mIn[17], line 3\u001b[0m\n\u001b[0;32m      1\u001b[0m \u001b[38;5;28mprint\u001b[39m(d1)\n\u001b[0;32m      2\u001b[0m \u001b[38;5;28mprint\u001b[39m()\n\u001b[1;32m----> 3\u001b[0m \u001b[43md1\u001b[49m\u001b[38;5;241;43m.\u001b[39;49m\u001b[43mpop\u001b[49m\u001b[43m(\u001b[49m\u001b[38;5;124;43m'\u001b[39;49m\u001b[38;5;124;43mtwo\u001b[39;49m\u001b[38;5;124;43m'\u001b[39;49m\u001b[43m)\u001b[49m\n\u001b[0;32m      4\u001b[0m \u001b[38;5;28mprint\u001b[39m()\n\u001b[0;32m      5\u001b[0m \u001b[38;5;28mprint\u001b[39m(d1)\n",
      "File \u001b[1;32m~\\AppData\\Local\\Programs\\Python\\Python310\\lib\\site-packages\\pandas\\core\\frame.py:5570\u001b[0m, in \u001b[0;36mDataFrame.pop\u001b[1;34m(self, item)\u001b[0m\n\u001b[0;32m   5529\u001b[0m \u001b[38;5;28;01mdef\u001b[39;00m \u001b[38;5;21mpop\u001b[39m(\u001b[38;5;28mself\u001b[39m, item: Hashable) \u001b[38;5;241m-\u001b[39m\u001b[38;5;241m>\u001b[39m Series:\n\u001b[0;32m   5530\u001b[0m \u001b[38;5;250m    \u001b[39m\u001b[38;5;124;03m\"\"\"\u001b[39;00m\n\u001b[0;32m   5531\u001b[0m \u001b[38;5;124;03m    Return item and drop from frame. Raise KeyError if not found.\u001b[39;00m\n\u001b[0;32m   5532\u001b[0m \n\u001b[1;32m   (...)\u001b[0m\n\u001b[0;32m   5568\u001b[0m \u001b[38;5;124;03m    3  monkey        NaN\u001b[39;00m\n\u001b[0;32m   5569\u001b[0m \u001b[38;5;124;03m    \"\"\"\u001b[39;00m\n\u001b[1;32m-> 5570\u001b[0m     \u001b[38;5;28;01mreturn\u001b[39;00m \u001b[38;5;28;43msuper\u001b[39;49m\u001b[43m(\u001b[49m\u001b[43m)\u001b[49m\u001b[38;5;241;43m.\u001b[39;49m\u001b[43mpop\u001b[49m\u001b[43m(\u001b[49m\u001b[43mitem\u001b[49m\u001b[38;5;241;43m=\u001b[39;49m\u001b[43mitem\u001b[49m\u001b[43m)\u001b[49m\n",
      "File \u001b[1;32m~\\AppData\\Local\\Programs\\Python\\Python310\\lib\\site-packages\\pandas\\core\\generic.py:901\u001b[0m, in \u001b[0;36mNDFrame.pop\u001b[1;34m(self, item)\u001b[0m\n\u001b[0;32m    900\u001b[0m \u001b[38;5;28;01mdef\u001b[39;00m \u001b[38;5;21mpop\u001b[39m(\u001b[38;5;28mself\u001b[39m, item: Hashable) \u001b[38;5;241m-\u001b[39m\u001b[38;5;241m>\u001b[39m Series \u001b[38;5;241m|\u001b[39m Any:\n\u001b[1;32m--> 901\u001b[0m     result \u001b[38;5;241m=\u001b[39m \u001b[38;5;28;43mself\u001b[39;49m\u001b[43m[\u001b[49m\u001b[43mitem\u001b[49m\u001b[43m]\u001b[49m\n\u001b[0;32m    902\u001b[0m     \u001b[38;5;28;01mdel\u001b[39;00m \u001b[38;5;28mself\u001b[39m[item]\n\u001b[0;32m    904\u001b[0m     \u001b[38;5;28;01mreturn\u001b[39;00m result\n",
      "File \u001b[1;32m~\\AppData\\Local\\Programs\\Python\\Python310\\lib\\site-packages\\pandas\\core\\frame.py:3893\u001b[0m, in \u001b[0;36mDataFrame.__getitem__\u001b[1;34m(self, key)\u001b[0m\n\u001b[0;32m   3891\u001b[0m \u001b[38;5;28;01mif\u001b[39;00m \u001b[38;5;28mself\u001b[39m\u001b[38;5;241m.\u001b[39mcolumns\u001b[38;5;241m.\u001b[39mnlevels \u001b[38;5;241m>\u001b[39m \u001b[38;5;241m1\u001b[39m:\n\u001b[0;32m   3892\u001b[0m     \u001b[38;5;28;01mreturn\u001b[39;00m \u001b[38;5;28mself\u001b[39m\u001b[38;5;241m.\u001b[39m_getitem_multilevel(key)\n\u001b[1;32m-> 3893\u001b[0m indexer \u001b[38;5;241m=\u001b[39m \u001b[38;5;28;43mself\u001b[39;49m\u001b[38;5;241;43m.\u001b[39;49m\u001b[43mcolumns\u001b[49m\u001b[38;5;241;43m.\u001b[39;49m\u001b[43mget_loc\u001b[49m\u001b[43m(\u001b[49m\u001b[43mkey\u001b[49m\u001b[43m)\u001b[49m\n\u001b[0;32m   3894\u001b[0m \u001b[38;5;28;01mif\u001b[39;00m is_integer(indexer):\n\u001b[0;32m   3895\u001b[0m     indexer \u001b[38;5;241m=\u001b[39m [indexer]\n",
      "File \u001b[1;32m~\\AppData\\Local\\Programs\\Python\\Python310\\lib\\site-packages\\pandas\\core\\indexes\\base.py:3798\u001b[0m, in \u001b[0;36mIndex.get_loc\u001b[1;34m(self, key)\u001b[0m\n\u001b[0;32m   3793\u001b[0m     \u001b[38;5;28;01mif\u001b[39;00m \u001b[38;5;28misinstance\u001b[39m(casted_key, \u001b[38;5;28mslice\u001b[39m) \u001b[38;5;129;01mor\u001b[39;00m (\n\u001b[0;32m   3794\u001b[0m         \u001b[38;5;28misinstance\u001b[39m(casted_key, abc\u001b[38;5;241m.\u001b[39mIterable)\n\u001b[0;32m   3795\u001b[0m         \u001b[38;5;129;01mand\u001b[39;00m \u001b[38;5;28many\u001b[39m(\u001b[38;5;28misinstance\u001b[39m(x, \u001b[38;5;28mslice\u001b[39m) \u001b[38;5;28;01mfor\u001b[39;00m x \u001b[38;5;129;01min\u001b[39;00m casted_key)\n\u001b[0;32m   3796\u001b[0m     ):\n\u001b[0;32m   3797\u001b[0m         \u001b[38;5;28;01mraise\u001b[39;00m InvalidIndexError(key)\n\u001b[1;32m-> 3798\u001b[0m     \u001b[38;5;28;01mraise\u001b[39;00m \u001b[38;5;167;01mKeyError\u001b[39;00m(key) \u001b[38;5;28;01mfrom\u001b[39;00m \u001b[38;5;21;01merr\u001b[39;00m\n\u001b[0;32m   3799\u001b[0m \u001b[38;5;28;01mexcept\u001b[39;00m \u001b[38;5;167;01mTypeError\u001b[39;00m:\n\u001b[0;32m   3800\u001b[0m     \u001b[38;5;66;03m# If we have a listlike key, _check_indexing_error will raise\u001b[39;00m\n\u001b[0;32m   3801\u001b[0m     \u001b[38;5;66;03m#  InvalidIndexError. Otherwise we fall through and re-raise\u001b[39;00m\n\u001b[0;32m   3802\u001b[0m     \u001b[38;5;66;03m#  the TypeError.\u001b[39;00m\n\u001b[0;32m   3803\u001b[0m     \u001b[38;5;28mself\u001b[39m\u001b[38;5;241m.\u001b[39m_check_indexing_error(key)\n",
      "\u001b[1;31mKeyError\u001b[0m: 'two'"
     ]
    }
   ],
   "source": [
    "print(d1)\n",
    "print()\n",
    "d1.pop('two')\n",
    "print()\n",
    "print(d1)"
   ]
  },
  {
   "cell_type": "code",
   "execution_count": 22,
   "id": "fe8319ef-7661-433f-9d4b-4d797c806db2",
   "metadata": {},
   "outputs": [
    {
     "name": "stdout",
     "output_type": "stream",
     "text": [
      "   one  two\n",
      "a    1  1.0\n",
      "b    2  2.0\n",
      "c    3  3.0\n",
      "d    4  4.0\n",
      "e    5  NaN\n",
      "\n",
      "one    3.0\n",
      "two    3.0\n",
      "Name: c, dtype: float64\n"
     ]
    }
   ],
   "source": [
    "#Row Selection in pandas\n",
    "import pandas as pd\n",
    "info = {'one':pd.Series([1,2,3,4,5],index = ['a','b','c','d','e']),\n",
    "         'two':pd.Series([1,2,3,4],index = ['a','b','c','d'])\n",
    "       }\n",
    "df = pd.DataFrame(info)\n",
    "print(df)\n",
    "print()\n",
    "print(df.loc['c'])#it is used to select the row by index"
   ]
  },
  {
   "cell_type": "code",
   "execution_count": 23,
   "id": "a2b1ae62-1347-4b43-8c36-223e0879e818",
   "metadata": {},
   "outputs": [
    {
     "name": "stdout",
     "output_type": "stream",
     "text": [
      "   one  two\n",
      "a    1  1.0\n",
      "b    2  2.0\n",
      "c    3  3.0\n",
      "d    4  4.0\n",
      "e    5  NaN\n",
      "\n",
      "one    2.0\n",
      "two    2.0\n",
      "Name: b, dtype: float64\n"
     ]
    }
   ],
   "source": [
    "#Row selection by iloc\n",
    "print(df)\n",
    "print()\n",
    "print(df.iloc[1])#it is used to select the row by integer index"
   ]
  },
  {
   "cell_type": "code",
   "execution_count": 24,
   "id": "c03db857-3f29-4271-9267-ea1dae89b650",
   "metadata": {},
   "outputs": [
    {
     "name": "stdout",
     "output_type": "stream",
     "text": [
      "   one  two\n",
      "a    1  1.0\n",
      "b    2  2.0\n",
      "c    3  3.0\n",
      "d    4  4.0\n",
      "e    5  NaN\n",
      "\n",
      "   one  two\n",
      "c    3  3.0\n",
      "d    4  4.0\n",
      "e    5  NaN\n"
     ]
    }
   ],
   "source": [
    "#Row selection by slicing\n",
    "print(df)\n",
    "print()\n",
    "print(df[2:5])\n"
   ]
  },
  {
   "cell_type": "code",
   "execution_count": 8,
   "id": "bacfe3d4-e44f-47f5-86b0-6ec1828c089c",
   "metadata": {},
   "outputs": [
    {
     "name": "stdout",
     "output_type": "stream",
     "text": [
      "    x   y     z\n",
      "0  25  47   NaN\n",
      "1  15  24   NaN\n",
      "2  12  17   NaN\n",
      "3  19  29   NaN\n",
      "4  25  47  38.0\n",
      "5  15  24  12.0\n",
      "6  12  17  45.0\n"
     ]
    }
   ],
   "source": [
    "#Adding new rows to the dataframe using concat\n",
    "import pandas as pd\n",
    "\n",
    "# Create first DataFrame using dictionary\n",
    "info1 = pd.DataFrame({\"x\": [25, 15, 12, 19], \"y\": [47, 24, 17, 29]})\n",
    "\n",
    "# Create second DataFrame using dictionary\n",
    "info2 = pd.DataFrame({\"x\": [25, 15, 12], \"y\": [47, 24, 17], \"z\": [38, 12, 45]})\n",
    "\n",
    "# Concatenate the DataFrames along the rows\n",
    "info1 = pd.concat([info1, info2], ignore_index=True)\n",
    "\n",
    "print(info1)"
   ]
  },
  {
   "cell_type": "code",
   "execution_count": 17,
   "id": "6fd25ee9-b253-40f0-ace7-e1ab1a0309ed",
   "metadata": {},
   "outputs": [
    {
     "name": "stdout",
     "output_type": "stream",
     "text": [
      "   P  Q\n",
      "0  2  7\n",
      "1  2  7\n",
      "2  2  7\n",
      "3  2  7\n",
      "          P         Q\n",
      "0  1.414214  2.645751\n",
      "1  1.414214  2.645751\n",
      "2  1.414214  2.645751\n",
      "3  1.414214  2.645751\n",
      "\n",
      "P     8\n",
      "Q    28\n",
      "dtype: int64\n",
      "\n",
      "0    9\n",
      "1    9\n",
      "2    9\n",
      "3    9\n",
      "dtype: int64\n",
      "\n",
      "0    [1, 2]\n",
      "1    [1, 2]\n",
      "2    [1, 2]\n",
      "3    [1, 2]\n",
      "dtype: object\n",
      "\n",
      "   0  1\n",
      "0  1  2\n",
      "1  1  2\n",
      "2  1  2\n",
      "3  1  2\n",
      "\n"
     ]
    },
    {
     "data": {
      "text/plain": [
       "\"\\ninfo.apply(lambda x: [1, 2], axis=1, result_type='expand')  \\ninfo.apply(lambda x: pd.Series([1, 2], index=['foo', 'bar']), axis=1)  \\ninfo.apply(lambda x: [1, 2], axis=1, result_type='broadcast')  \\ninfo  \""
      ]
     },
     "execution_count": 17,
     "metadata": {},
     "output_type": "execute_result"
    }
   ],
   "source": [
    "#using the apply function to apply a function to the row or column of a Dataframe \n",
    "import pandas as pd\n",
    "import numpy as np\n",
    "info = pd.DataFrame([[2, 7]] * 4, columns=['P', 'Q'])  \n",
    "print(info)\n",
    "a = info.apply(np.sqrt)\n",
    "print(a)\n",
    "print()\n",
    "b = info.apply(np.sum, axis=0)  \n",
    "print(b)\n",
    "print()\n",
    "c = info.apply(np.sum, axis=1)  \n",
    "print(c)\n",
    "print()\n",
    "d = info.apply(lambda x: [1, 2], axis=1)  \n",
    "print(d)\n",
    "print()\n",
    "e = info.apply(lambda x: [1, 2], axis=1,result_type = 'expand')\n",
    "print(e)\n",
    "print()\n",
    "\"\"\"\n",
    "info.apply(lambda x: [1, 2], axis=1, result_type='expand')  \n",
    "info.apply(lambda x: pd.Series([1, 2], index=['foo', 'bar']), axis=1)  \n",
    "info.apply(lambda x: [1, 2], axis=1, result_type='broadcast')  \n",
    "info  \"\"\""
   ]
  },
  {
   "cell_type": "code",
   "execution_count": 21,
   "id": "aef6e409-c2e8-44a6-b0a4-1f5cf9e60a1b",
   "metadata": {},
   "outputs": [
    {
     "name": "stdout",
     "output_type": "stream",
     "text": [
      "    x  y\n",
      "0   1  9\n",
      "1   4  2\n",
      "2   6  5\n",
      "3  10  7\n",
      "4   8  3\n",
      "\n",
      "\n"
     ]
    },
    {
     "data": {
      "text/plain": [
       "x    1\n",
       "y    2\n",
       "dtype: int64"
      ]
     },
     "execution_count": 21,
     "metadata": {},
     "output_type": "execute_result"
    }
   ],
   "source": [
    "#Using the aggregate function\n",
    "import pandas as pd\n",
    "import numpy as np\n",
    "info = pd.DataFrame({'x':[1,4,6,10,8],'y':[9,2,5,7,3]})\n",
    "print(info)\n",
    "info.aggregate('sum',axis = 1)\n",
    "print()\n",
    "info.aggregate('max',axis = 0) \n",
    "print()\n",
    "info.aggregate('min',axis = 0)  \n",
    "\n"
   ]
  },
  {
   "cell_type": "code",
   "execution_count": 26,
   "id": "ad37cd7d-1956-4e6f-b559-a1deed4a2ba2",
   "metadata": {},
   "outputs": [
    {
     "name": "stdout",
     "output_type": "stream",
     "text": [
      "    id   Name\n",
      "0  101  Smith\n",
      "1  103  Gopal\n",
      "2  105   Kenn\n"
     ]
    }
   ],
   "source": [
    "#Assign method--for adding a new column \n",
    "import pandas as pd\n",
    "import numpy as np\n",
    "info = pd.DataFrame({'id':[101,103,105]})\n",
    "new_info = info.assign(Name = ['Smith','Gopal','Kenn'])\n",
    "print(new_info)"
   ]
  },
  {
   "cell_type": "code",
   "execution_count": 31,
   "id": "e9df0996-0a81-4740-baae-d4407a7b46f7",
   "metadata": {},
   "outputs": [
    {
     "name": "stdout",
     "output_type": "stream",
     "text": [
      "    x\n",
      "0   2\n",
      "1   4\n",
      "2   6\n",
      "3   8\n",
      "4  10\n",
      "\n",
      "      x\n",
      "0   2.0\n",
      "1   4.0\n",
      "2   6.0\n",
      "3   8.0\n",
      "4  10.0\n"
     ]
    }
   ],
   "source": [
    "#Using astype function to convert the datatype\n",
    "import pandas as pd\n",
    "info = pd.DataFrame({'x':[2,4,6,8,10]})\n",
    "print(info)\n",
    "print()\n",
    "a= info.astype('float64')\n",
    "print(a)"
   ]
  },
  {
   "cell_type": "code",
   "execution_count": 34,
   "id": "b0a5f36b-666c-407e-bc5d-df600c337383",
   "metadata": {},
   "outputs": [
    {
     "name": "stdout",
     "output_type": "stream",
     "text": [
      "      x     y\n",
      "0   2.0   1.0\n",
      "1   4.0   NaN\n",
      "2   6.0   5.0\n",
      "3   NaN  79.0\n",
      "4  10.0   NaN\n",
      "\n",
      "x    4\n",
      "y    3\n",
      "dtype: int64\n",
      "\n",
      "0    2\n",
      "1    1\n",
      "2    2\n",
      "3    1\n",
      "4    1\n",
      "dtype: int64\n"
     ]
    }
   ],
   "source": [
    "#Using Count function\n",
    "import pandas as pd\n",
    "import numpy as np\n",
    "info = pd.DataFrame({'x':[2,4,6,np.nan,10],'y':[1,np.nan,5,79,np.nan]})\n",
    "print(info)\n",
    "print()\n",
    "a = info.count(axis=0)\n",
    "print(a)\n",
    "print()\n",
    "b = info.count(axis=1)\n",
    "print(b)"
   ]
  },
  {
   "cell_type": "code",
   "execution_count": 35,
   "id": "1c60c8c4-7a8f-4dfe-8e31-8a35589699f8",
   "metadata": {},
   "outputs": [
    {
     "name": "stdout",
     "output_type": "stream",
     "text": [
      "      Name  Age\n",
      "0   Parker   21\n",
      "1    Smith   32\n",
      "2  William   29\n",
      "3   Parker   21\n",
      "\n",
      "      Name  Age\n",
      "0   Parker   21\n",
      "1    Smith   32\n",
      "2  William   29\n"
     ]
    }
   ],
   "source": [
    "#using the drop_duplicates function to delete the duplicates from the dataframe\n",
    "import pandas as pd  \n",
    "emp = {\"Name\": [\"Parker\", \"Smith\", \"William\", \"Parker\"],  \n",
    "\"Age\": [21, 32, 29, 21]}  \n",
    "info = pd.DataFrame(emp)\n",
    "print(info)\n",
    "print()\n",
    "info = info.drop_duplicates()  \n",
    "print(info)"
   ]
  },
  {
   "cell_type": "code",
   "execution_count": 38,
   "id": "ca4e1c45-7798-407d-a71c-a72816d5f5a6",
   "metadata": {},
   "outputs": [
    {
     "name": "stdout",
     "output_type": "stream",
     "text": [
      "      Name\n",
      "0  William\n",
      "1     Kenn\n",
      "2   Stuart\n",
      "\n"
     ]
    },
    {
     "data": {
      "text/html": [
       "<div>\n",
       "<style scoped>\n",
       "    .dataframe tbody tr th:only-of-type {\n",
       "        vertical-align: middle;\n",
       "    }\n",
       "\n",
       "    .dataframe tbody tr th {\n",
       "        vertical-align: top;\n",
       "    }\n",
       "\n",
       "    .dataframe thead th {\n",
       "        text-align: right;\n",
       "    }\n",
       "</style>\n",
       "<table border=\"1\" class=\"dataframe\">\n",
       "  <thead>\n",
       "    <tr style=\"text-align: right;\">\n",
       "      <th></th>\n",
       "      <th>Name</th>\n",
       "    </tr>\n",
       "  </thead>\n",
       "  <tbody>\n",
       "    <tr>\n",
       "      <th>0</th>\n",
       "      <td>William</td>\n",
       "    </tr>\n",
       "    <tr>\n",
       "      <th>1</th>\n",
       "      <td>Kenn</td>\n",
       "    </tr>\n",
       "  </tbody>\n",
       "</table>\n",
       "</div>"
      ],
      "text/plain": [
       "      Name\n",
       "0  William\n",
       "1     Kenn"
      ]
     },
     "execution_count": 38,
     "metadata": {},
     "output_type": "execute_result"
    }
   ],
   "source": [
    "#using the head function to return the top \"n\" rows\n",
    "import pandas as pd\n",
    "emp = {\"Name\":[\"William\",\"Kenn\",\"Stuart\"]}\n",
    "info = pd.DataFrame(emp)\n",
    "print(info)\n",
    "print()\n",
    "info.head(2)"
   ]
  },
  {
   "cell_type": "code",
   "execution_count": 55,
   "id": "7c1b3f5f-441b-46d6-a50b-30bde431d68c",
   "metadata": {},
   "outputs": [
    {
     "name": "stdout",
     "output_type": "stream",
     "text": [
      "     Name  variable   value\n",
      "0  Parker  Language  Python\n",
      "1   Smith  Language    Java\n",
      "2    John  Language     C++\n",
      "3  Parker       Age      22\n",
      "4   Smith       Age      30\n",
      "5    John       Age      26\n"
     ]
    }
   ],
   "source": [
    "# importing pandas as pd   \n",
    "import pandas as pd     \n",
    "# creating a dataframe   \n",
    "info = pd.DataFrame({'Name': {0: 'Parker', 1: 'Smith', 2: 'John'},   \n",
    "                   'Language': {0: 'Python', 1: 'Java', 2: 'C++'},   \n",
    "                   'Age': {0: 22, 1: 30, 2: 26}})   \n",
    "  \n",
    "# Name is id_vars and Course is value_vars   \n",
    "a = pd.melt(info, id_vars =['Name'])#, value_vars =['Language'])   \n",
    "print(a)"
   ]
  },
  {
   "cell_type": "code",
   "execution_count": 2,
   "id": "4b6b3d08-0d8d-498e-a42e-d39333a184df",
   "metadata": {},
   "outputs": [
    {
     "name": "stdout",
     "output_type": "stream",
     "text": [
      "   id_x  Name_x subject_id  id_y Name_y\n",
      "0     2     Amy       sub2     1  Billy\n",
      "1     3   Allen       sub4     2  Brian\n",
      "2     4   Alice       sub6     4  Bryce\n",
      "3     5  Ayoung       sub5     5  Betty\n"
     ]
    }
   ],
   "source": [
    "import pandas as pd  \n",
    "left = pd.DataFrame({  \n",
    "   'id':[1,2,3,4,5],  \n",
    "   'Name': ['Alex', 'Amy', 'Allen', 'Alice', 'Ayoung'],  \n",
    "   'subject_id':['sub1','sub2','sub4','sub6','sub5']})  \n",
    "right = pd.DataFrame({  \n",
    "    'id':[1,2,3,4,5],  \n",
    "   'Name': ['Billy', 'Brian', 'Bran', 'Bryce', 'Betty'],  \n",
    "   'subject_id':['sub2','sub4','sub3','sub6','sub5']})  \n",
    "a = pd.merge(left,right,how = 'inner',on='subject_id')\n",
    "print(a)"
   ]
  },
  {
   "cell_type": "code",
   "execution_count": 26,
   "id": "307a7311-4202-44ac-845c-cba4d5221fe0",
   "metadata": {},
   "outputs": [
    {
     "name": "stdout",
     "output_type": "stream",
     "text": [
      "Name        Clara  Dora  Lily Peter  Riya Mean_of_Age\n",
      "Degree                                               \n",
      "Graduate     29.0     -     -  30.0     -        29.5\n",
      "Masters         -  26.0  24.0     -  21.0   23.666667\n",
      "Mean_of_Age  29.0  26.0  24.0  30.0  21.0        26.0\n"
     ]
    }
   ],
   "source": [
    "#using the pivottable function in pandas --to aggregate and calculate the data\n",
    "import pandas as pd\n",
    "info = pd.DataFrame({'Name':[\"Riya\",\"Lily\",\"Peter\",\"Clara\",\"Dora\"],\n",
    "                     'Degree':[\"Masters\",\"Masters\",\"Graduate\",\"Graduate\",\"Masters\"],\n",
    "                     'Age':[21,24,30,29,26]\n",
    "                    })\n",
    "pivot_table = info.pivot_table(values = \"Age\", index = \"Degree\",columns = \"Name\",aggfunc = 'mean',fill_value = '-',margins = True,margins_name = 'Mean_of_Age')\n",
    "print(pivot_table)"
   ]
  },
  {
   "cell_type": "code",
   "execution_count": 19,
   "id": "a9363a88-a699-4405-9442-412f1ebc42d9",
   "metadata": {},
   "outputs": [
    {
     "name": "stdout",
     "output_type": "stream",
     "text": [
      "Category     A   B  Sum\n",
      "Date                   \n",
      "2022-01-01  10  20   30\n",
      "2022-01-02  30  40   70\n",
      "Sum         40  60  100\n"
     ]
    }
   ],
   "source": [
    "#using the pivot table--to aggregate and calculate\n",
    "import pandas as pd\n",
    "# Sample DataFrame\n",
    "data = {\n",
    "    'Date': ['2022-01-01', '2022-01-01', '2022-01-02', '2022-01-02'],\n",
    "    'Category': ['A', 'B', 'A', 'B'],\n",
    "    'Value': [10, 20, 30, 40]\n",
    "}\n",
    "\n",
    "df = pd.DataFrame(data)\n",
    "\n",
    "# Create a pivot table\n",
    "pivot_table = df.pivot_table(values='Value', index='Date', columns='Category', aggfunc='sum', fill_value=0,margins = 'True',margins_name = 'Sum')\n",
    "print(pivot_table)\n",
    "\n"
   ]
  },
  {
   "cell_type": "code",
   "execution_count": 38,
   "id": "09e823ef-1a5f-43ab-a277-a5dbda5e8791",
   "metadata": {},
   "outputs": [
    {
     "name": "stdout",
     "output_type": "stream",
     "text": [
      "         Date Category  Value\n",
      "0  2022-01-01        A     10\n",
      "1  2022-01-01        B     20\n",
      "2  2022-01-02        A     30\n",
      "3  2022-01-02        B     40\n",
      "\n",
      "\n",
      "         Date Category  Value\n",
      "1  2022-01-01        B     20\n",
      "2  2022-01-02        A     30\n",
      "3  2022-01-02        B     40\n",
      "\n",
      "\n",
      "         Date Category  Value\n",
      "0  2022-01-01        A     10\n",
      "2  2022-01-02        A     30\n"
     ]
    }
   ],
   "source": [
    "#query function in pandas to get the data based on the filter\n",
    "import pandas as pd\n",
    "data = {\n",
    "    'Date': ['2022-01-01', '2022-01-01', '2022-01-02', '2022-01-02'],\n",
    "    'Category': ['A', 'B', 'A', 'B'],\n",
    "    'Value': [10, 20, 30, 40]\n",
    "}\n",
    "info = pd.DataFrame(data)\n",
    "print(info)\n",
    "print()\n",
    "print()\n",
    "a = info.query('Value >= 20')\n",
    "print(a)\n",
    "print()\n",
    "print()\n",
    "b = info.query('Category == \"A\"')\n",
    "print(b)"
   ]
  },
  {
   "cell_type": "code",
   "execution_count": 44,
   "id": "77c5e0d5-fbec-4aee-b4bf-068d8ef52ab2",
   "metadata": {},
   "outputs": [
    {
     "name": "stdout",
     "output_type": "stream",
     "text": [
      "    name   id  age\n",
      "0  Peter  101   25\n",
      "1  Clara  103   30\n",
      "2   John  105   28\n",
      "3  Smith  109   26\n",
      "\n",
      "Renamed columns\n",
      "    Name   Id  Age\n",
      "0  Peter  101   25\n",
      "1  Clara  103   30\n",
      "2   John  105   28\n",
      "3  Smith  109   26\n",
      "\n",
      "Renamed Indexes\n",
      "     name   id  age\n",
      "#0  Peter  101   25\n",
      "#1  Clara  103   30\n",
      "#2   John  105   28\n",
      "#3  Smith  109   26\n"
     ]
    }
   ],
   "source": [
    "#pandas rename function--used to rename any index,column or row\n",
    "import pandas as pd\n",
    "info = pd.DataFrame({'name':[\"Peter\",\"Clara\",\"John\",\"Smith\"],\n",
    "                     'id':[101,103,105,109],\n",
    "                     'age':[25,30,28,26]}\n",
    "                   )\n",
    "print(info)\n",
    "a = info.rename(columns ={'name':'Name','id':'Id','age':'Age'})\n",
    "print()\n",
    "print(\"Renamed columns\")\n",
    "print(a)\n",
    "b = info.rename(index = {0:\"#0\",1:\"#1\",2:\"#2\",3:\"#3\"})\n",
    "print()\n",
    "print(\"Renamed Indexes\")\n",
    "print(b)"
   ]
  },
  {
   "cell_type": "code",
   "execution_count": 75,
   "id": "86394211-6b72-4b65-af57-c165a4feaea4",
   "metadata": {},
   "outputs": [
    {
     "name": "stdout",
     "output_type": "stream",
     "text": [
      "    name   id  age\n",
      "2   John  105   28\n",
      "0  Peter  101   25\n",
      "1  Clara  103   30\n"
     ]
    }
   ],
   "source": [
    "#pandas sample function--used to get the random sample data from dataset\n",
    "import pandas as pd\n",
    "info = pd.DataFrame({'name':[\"Peter\",\"Clara\",\"John\",\"Smith\"],\n",
    "                     'id':[101,103,105,109],\n",
    "                     'age':[25,30,28,26]}\n",
    "                   )\n",
    "a = info.sample(frac = 0.75,random_state = 54)\n",
    "print(a)"
   ]
  },
  {
   "cell_type": "code",
   "execution_count": 80,
   "id": "3abf1b1a-f56c-4213-a2d3-a2ef649bf30f",
   "metadata": {},
   "outputs": [
    {
     "name": "stdout",
     "output_type": "stream",
     "text": [
      "    name   id age\n",
      "0     Hi   Hi  Hi\n",
      "1     Hi   Hi  Hi\n",
      "2  Peter  101  25\n",
      "3  Clara  103  30\n",
      "\n",
      "    name     id  age\n",
      "0  Hello  Peter  101\n",
      "1  Hello  Clara  103\n",
      "2  Hello   John  105\n",
      "3  Hello  Smith  109\n"
     ]
    }
   ],
   "source": [
    "#pandas shift function--used to shift the values of a series or dataframe along specified axis\n",
    "import pandas as pd\n",
    "info = pd.DataFrame({'name':[\"Peter\",\"Clara\",\"John\",\"Smith\"],\n",
    "                     'id':[101,103,105,109],\n",
    "                     'age':[25,30,28,26]}\n",
    "                   )\n",
    "a = info.shift(periods = 2,axis = 0,fill_value = 'Hi')\n",
    "print(a)\n",
    "print()\n",
    "b = info.shift(periods = 1,axis = 1,fill_value = 'Hello')\n",
    "print(b)"
   ]
  },
  {
   "cell_type": "code",
   "execution_count": 91,
   "id": "0f0ced07-ba9b-4ab0-90bc-396bfd4bfe09",
   "metadata": {},
   "outputs": [
    {
     "name": "stdout",
     "output_type": "stream",
     "text": [
      "     Name   Id  Marks\n",
      "3   Jisha  104     75\n",
      "1   Nisha  102     89\n",
      "2     Roy  103     90\n",
      "0  Stella  101     80\n"
     ]
    }
   ],
   "source": [
    "#Sorting the data\n",
    "import pandas as pd\n",
    "df = pd.DataFrame({'Name':['Stella','Nisha','Roy','Jisha'],\n",
    "                   'Id':[101,102,103,104],\n",
    "                   'Marks':[80,89,90,75]}\n",
    "                 )\n",
    "a = df.sort_values(by = ['Name','Id'],ascending = [True,False])\n",
    "print(a)"
   ]
  },
  {
   "cell_type": "code",
   "execution_count": 93,
   "id": "05f41397-6603-48b9-8595-263dc10045ca",
   "metadata": {},
   "outputs": [
    {
     "name": "stdout",
     "output_type": "stream",
     "text": [
      "     Name   Id  Marks  Sum_of_marks\n",
      "0  Stella  101     80           334\n",
      "1   Nisha  102     89           334\n",
      "2     Roy  103     90           334\n",
      "3   Jisha  104     75           334\n"
     ]
    }
   ],
   "source": [
    "#adding the values in a data\n",
    "import pandas as pd\n",
    "df = pd.DataFrame({'Name':['Stella','Nisha','Roy','Jisha'],\n",
    "                   'Id':[101,102,103,104],\n",
    "                   'Marks':[80,89,90,75]}\n",
    "                 )\n",
    "df['Sum_of_marks'] = df['Marks'].sum()\n",
    "print(df)"
   ]
  },
  {
   "cell_type": "code",
   "execution_count": 102,
   "id": "33cd3145-79bd-4934-85cd-0d0934660f22",
   "metadata": {},
   "outputs": [
    {
     "name": "stdout",
     "output_type": "stream",
     "text": [
      "     P     Q   R     S\n",
      "0  8.0   4.0   2  16.0\n",
      "1  2.0  14.0   5  10.0\n",
      "2  9.0  12.0   7   NaN\n",
      "3  NaN  22.0  16  19.0\n",
      "4  3.0   NaN  13  18.0\n",
      "\n",
      "          P         Q         R         S\n",
      "0  2.828427  2.000000  1.414214  4.000000\n",
      "1  1.414214  3.741657  2.236068  3.162278\n",
      "2  3.000000  3.464102  2.645751       NaN\n",
      "3       NaN  4.690416  4.000000  4.358899\n",
      "4  1.732051       NaN  3.605551  4.242641\n"
     ]
    }
   ],
   "source": [
    "#transform the data in Dataframe using transform function\n",
    "import pandas as pd  \n",
    "# Creating the DataFrame  \n",
    "info =pd.DataFrame({\"P\":[8, 2, 9, None, 3],    \n",
    "                   \"Q\":[4, 14, 12, 22, None],    \n",
    "                   \"R\":[2, 5, 7, 16, 13],    \n",
    "                   \"S\":[16, 10, None, 19, 18]})   \n",
    "print(info)\n",
    "print()\n",
    "a = info.transform(func = 'sqrt',axis = 0)\n",
    "print(a)"
   ]
  },
  {
   "cell_type": "code",
   "execution_count": 104,
   "id": "7ec70a50-5a69-40d2-a6fc-8abfaed25a06",
   "metadata": {},
   "outputs": [
    {
     "name": "stdout",
     "output_type": "stream",
     "text": [
      "     P     Q   R     S\n",
      "0  8.0   4.0   2  16.0\n",
      "1  2.0  14.0   5  10.0\n",
      "2  9.0  12.0   7   NaN\n",
      "3  NaN  22.0  16  19.0\n",
      "4  3.0   NaN  13  18.0\n",
      "Transposed DataFrame\n",
      "      0     1     2     3     4\n",
      "P   8.0   2.0   9.0   NaN   3.0\n",
      "Q   4.0  14.0  12.0  22.0   NaN\n",
      "R   2.0   5.0   7.0  16.0  13.0\n",
      "S  16.0  10.0   NaN  19.0  18.0\n"
     ]
    }
   ],
   "source": [
    "#transpose the data -- used to convert rows to columns and vice-versa.\n",
    "import pandas as pd  \n",
    "# Creating the DataFrame  \n",
    "info =pd.DataFrame({\"P\":[8, 2, 9, None, 3],    \n",
    "                   \"Q\":[4, 14, 12, 22, None],    \n",
    "                   \"R\":[2, 5, 7, 16, 13],    \n",
    "                   \"S\":[16, 10, None, 19, 18]})   \n",
    "print(info)\n",
    "print(\"Transposed DataFrame\")\n",
    "a = info.transpose()\n",
    "print(a)"
   ]
  },
  {
   "cell_type": "code",
   "execution_count": 105,
   "id": "7ef534d8-71ad-483f-bbe6-a299c887e5a9",
   "metadata": {},
   "outputs": [
    {
     "name": "stdout",
     "output_type": "stream",
     "text": [
      "Original Series:\n",
      "0    10\n",
      "1    20\n",
      "2    30\n",
      "3    40\n",
      "4    50\n",
      "dtype: int64\n",
      "\n",
      "Filtered Series:\n",
      "0     NaN\n",
      "1     NaN\n",
      "2    30.0\n",
      "3    40.0\n",
      "4    50.0\n",
      "dtype: float64\n"
     ]
    }
   ],
   "source": [
    "#where function -- to meet the condition\n",
    "import pandas as pd\n",
    "# Sample Series\n",
    "data = {'Values': [10, 20, 30, 40, 50]}\n",
    "series = pd.Series(data['Values'])\n",
    "# Use where to replace values less than 30 with NaN\n",
    "filtered_series = series.where(series >= 30)\n",
    "\n",
    "print(\"Original Series:\")\n",
    "print(series)\n",
    "\n",
    "print(\"\\nFiltered Series:\")\n",
    "print(filtered_series)\n"
   ]
  },
  {
   "cell_type": "markdown",
   "id": "8098b2ae-d681-4ca7-a862-eb432c47dd46",
   "metadata": {},
   "source": [
    "Pandas operations\n",
    "i)Add columns to DataFrame Columns"
   ]
  },
  {
   "cell_type": "code",
   "execution_count": 2,
   "id": "d3dafc55-6680-4f4d-8aab-dd11f495e9e2",
   "metadata": {},
   "outputs": [
    {
     "data": {
      "text/html": [
       "<div>\n",
       "<style scoped>\n",
       "    .dataframe tbody tr th:only-of-type {\n",
       "        vertical-align: middle;\n",
       "    }\n",
       "\n",
       "    .dataframe tbody tr th {\n",
       "        vertical-align: top;\n",
       "    }\n",
       "\n",
       "    .dataframe thead th {\n",
       "        text-align: right;\n",
       "    }\n",
       "</style>\n",
       "<table border=\"1\" class=\"dataframe\">\n",
       "  <thead>\n",
       "    <tr style=\"text-align: right;\">\n",
       "      <th></th>\n",
       "      <th>Name</th>\n",
       "      <th>Hire Date</th>\n",
       "      <th>Salary</th>\n",
       "      <th>Leaves Remaining</th>\n",
       "    </tr>\n",
       "  </thead>\n",
       "  <tbody>\n",
       "    <tr>\n",
       "      <th>0</th>\n",
       "      <td>John Idle</td>\n",
       "      <td>3/15/2014</td>\n",
       "      <td>50000</td>\n",
       "      <td>10</td>\n",
       "    </tr>\n",
       "    <tr>\n",
       "      <th>1</th>\n",
       "      <td>Smith Gilliam</td>\n",
       "      <td>6/1/2015</td>\n",
       "      <td>65000</td>\n",
       "      <td>8</td>\n",
       "    </tr>\n",
       "    <tr>\n",
       "      <th>2</th>\n",
       "      <td>Parker Chapman</td>\n",
       "      <td>5/12/2014</td>\n",
       "      <td>45000</td>\n",
       "      <td>10</td>\n",
       "    </tr>\n",
       "    <tr>\n",
       "      <th>3</th>\n",
       "      <td>Jones Palin</td>\n",
       "      <td>11/1/2013</td>\n",
       "      <td>70000</td>\n",
       "      <td>3</td>\n",
       "    </tr>\n",
       "    <tr>\n",
       "      <th>4</th>\n",
       "      <td>Terry Gilliam</td>\n",
       "      <td>8/12/2014</td>\n",
       "      <td>48000</td>\n",
       "      <td>7</td>\n",
       "    </tr>\n",
       "  </tbody>\n",
       "</table>\n",
       "</div>"
      ],
      "text/plain": [
       "             Name  Hire Date  Salary  Leaves Remaining\n",
       "0       John Idle  3/15/2014   50000                10\n",
       "1   Smith Gilliam   6/1/2015   65000                 8\n",
       "2  Parker Chapman  5/12/2014   45000                10\n",
       "3     Jones Palin  11/1/2013   70000                 3\n",
       "4   Terry Gilliam  8/12/2014   48000                 7"
      ]
     },
     "execution_count": 2,
     "metadata": {},
     "output_type": "execute_result"
    }
   ],
   "source": [
    "#Add columns to dataframe using []\n",
    "import pandas as pd\n",
    "Abcd = pd.read_csv(r\"C:\\Users\\tumpalli.himavarsha\\OneDrive - Perficient, Inc\\Abcd.csv\") #r is used to indicate the raw string which allows to specify the path even with backslashes.\n",
    "Abcd.head()#returns a specified number of rows and if any number is not specified then it returns all rows in the dataframe  "
   ]
  },
  {
   "cell_type": "code",
   "execution_count": 3,
   "id": "0fad514d-e5cf-443c-89f7-e0856db5d24b",
   "metadata": {},
   "outputs": [
    {
     "data": {
      "text/html": [
       "<div>\n",
       "<style scoped>\n",
       "    .dataframe tbody tr th:only-of-type {\n",
       "        vertical-align: middle;\n",
       "    }\n",
       "\n",
       "    .dataframe tbody tr th {\n",
       "        vertical-align: top;\n",
       "    }\n",
       "\n",
       "    .dataframe thead th {\n",
       "        text-align: right;\n",
       "    }\n",
       "</style>\n",
       "<table border=\"1\" class=\"dataframe\">\n",
       "  <thead>\n",
       "    <tr style=\"text-align: right;\">\n",
       "      <th></th>\n",
       "      <th>Name</th>\n",
       "      <th>Hire Date</th>\n",
       "      <th>Salary</th>\n",
       "      <th>Leaves Remaining</th>\n",
       "      <th>Age</th>\n",
       "    </tr>\n",
       "  </thead>\n",
       "  <tbody>\n",
       "    <tr>\n",
       "      <th>0</th>\n",
       "      <td>John Idle</td>\n",
       "      <td>3/15/2014</td>\n",
       "      <td>50000</td>\n",
       "      <td>10</td>\n",
       "      <td>24</td>\n",
       "    </tr>\n",
       "    <tr>\n",
       "      <th>1</th>\n",
       "      <td>Smith Gilliam</td>\n",
       "      <td>6/1/2015</td>\n",
       "      <td>65000</td>\n",
       "      <td>8</td>\n",
       "      <td>24</td>\n",
       "    </tr>\n",
       "    <tr>\n",
       "      <th>2</th>\n",
       "      <td>Parker Chapman</td>\n",
       "      <td>5/12/2014</td>\n",
       "      <td>45000</td>\n",
       "      <td>10</td>\n",
       "      <td>24</td>\n",
       "    </tr>\n",
       "    <tr>\n",
       "      <th>3</th>\n",
       "      <td>Jones Palin</td>\n",
       "      <td>11/1/2013</td>\n",
       "      <td>70000</td>\n",
       "      <td>3</td>\n",
       "      <td>24</td>\n",
       "    </tr>\n",
       "    <tr>\n",
       "      <th>4</th>\n",
       "      <td>Terry Gilliam</td>\n",
       "      <td>8/12/2014</td>\n",
       "      <td>48000</td>\n",
       "      <td>7</td>\n",
       "      <td>24</td>\n",
       "    </tr>\n",
       "  </tbody>\n",
       "</table>\n",
       "</div>"
      ],
      "text/plain": [
       "             Name  Hire Date  Salary  Leaves Remaining  Age\n",
       "0       John Idle  3/15/2014   50000                10   24\n",
       "1   Smith Gilliam   6/1/2015   65000                 8   24\n",
       "2  Parker Chapman  5/12/2014   45000                10   24\n",
       "3     Jones Palin  11/1/2013   70000                 3   24\n",
       "4   Terry Gilliam  8/12/2014   48000                 7   24"
      ]
     },
     "execution_count": 3,
     "metadata": {},
     "output_type": "execute_result"
    }
   ],
   "source": [
    "Abcd['Age'] = 24\n",
    "Abcd.head()"
   ]
  },
  {
   "cell_type": "code",
   "execution_count": 4,
   "id": "fd4da754-3d74-40ac-b1eb-2eb15da4a5da",
   "metadata": {},
   "outputs": [
    {
     "data": {
      "text/html": [
       "<div>\n",
       "<style scoped>\n",
       "    .dataframe tbody tr th:only-of-type {\n",
       "        vertical-align: middle;\n",
       "    }\n",
       "\n",
       "    .dataframe tbody tr th {\n",
       "        vertical-align: top;\n",
       "    }\n",
       "\n",
       "    .dataframe thead th {\n",
       "        text-align: right;\n",
       "    }\n",
       "</style>\n",
       "<table border=\"1\" class=\"dataframe\">\n",
       "  <thead>\n",
       "    <tr style=\"text-align: right;\">\n",
       "      <th></th>\n",
       "      <th>Name</th>\n",
       "      <th>Hire Date</th>\n",
       "      <th>Salary</th>\n",
       "      <th>Leaves Remaining</th>\n",
       "    </tr>\n",
       "  </thead>\n",
       "  <tbody>\n",
       "    <tr>\n",
       "      <th>0</th>\n",
       "      <td>John Idle</td>\n",
       "      <td>3/15/2014</td>\n",
       "      <td>50000</td>\n",
       "      <td>10</td>\n",
       "    </tr>\n",
       "    <tr>\n",
       "      <th>1</th>\n",
       "      <td>Smith Gilliam</td>\n",
       "      <td>6/1/2015</td>\n",
       "      <td>65000</td>\n",
       "      <td>8</td>\n",
       "    </tr>\n",
       "    <tr>\n",
       "      <th>2</th>\n",
       "      <td>Parker Chapman</td>\n",
       "      <td>5/12/2014</td>\n",
       "      <td>45000</td>\n",
       "      <td>10</td>\n",
       "    </tr>\n",
       "    <tr>\n",
       "      <th>3</th>\n",
       "      <td>Jones Palin</td>\n",
       "      <td>11/1/2013</td>\n",
       "      <td>70000</td>\n",
       "      <td>3</td>\n",
       "    </tr>\n",
       "    <tr>\n",
       "      <th>4</th>\n",
       "      <td>Terry Gilliam</td>\n",
       "      <td>8/12/2014</td>\n",
       "      <td>48000</td>\n",
       "      <td>7</td>\n",
       "    </tr>\n",
       "  </tbody>\n",
       "</table>\n",
       "</div>"
      ],
      "text/plain": [
       "             Name  Hire Date  Salary  Leaves Remaining\n",
       "0       John Idle  3/15/2014   50000                10\n",
       "1   Smith Gilliam   6/1/2015   65000                 8\n",
       "2  Parker Chapman  5/12/2014   45000                10\n",
       "3     Jones Palin  11/1/2013   70000                 3\n",
       "4   Terry Gilliam  8/12/2014   48000                 7"
      ]
     },
     "execution_count": 4,
     "metadata": {},
     "output_type": "execute_result"
    }
   ],
   "source": [
    "import pandas as pd\n",
    "Abcd = pd.read_csv(r\"C:\\Users\\tumpalli.himavarsha\\OneDrive - Perficient, Inc\\Abcd.csv\")\n",
    "Abcd.head()"
   ]
  },
  {
   "cell_type": "code",
   "execution_count": 10,
   "id": "783f6681-b131-444b-b5a9-a30431637d3f",
   "metadata": {},
   "outputs": [
    {
     "data": {
      "text/html": [
       "<div>\n",
       "<style scoped>\n",
       "    .dataframe tbody tr th:only-of-type {\n",
       "        vertical-align: middle;\n",
       "    }\n",
       "\n",
       "    .dataframe tbody tr th {\n",
       "        vertical-align: top;\n",
       "    }\n",
       "\n",
       "    .dataframe thead th {\n",
       "        text-align: right;\n",
       "    }\n",
       "</style>\n",
       "<table border=\"1\" class=\"dataframe\">\n",
       "  <thead>\n",
       "    <tr style=\"text-align: right;\">\n",
       "      <th></th>\n",
       "      <th>Name</th>\n",
       "      <th>Hire Date</th>\n",
       "      <th>Salary</th>\n",
       "      <th>Leaves Remaining</th>\n",
       "      <th>Designation</th>\n",
       "    </tr>\n",
       "  </thead>\n",
       "  <tbody>\n",
       "    <tr>\n",
       "      <th>0</th>\n",
       "      <td>John Idle</td>\n",
       "      <td>3/15/2014</td>\n",
       "      <td>50000</td>\n",
       "      <td>10</td>\n",
       "      <td>B.E</td>\n",
       "    </tr>\n",
       "    <tr>\n",
       "      <th>1</th>\n",
       "      <td>Smith Gilliam</td>\n",
       "      <td>6/1/2015</td>\n",
       "      <td>65000</td>\n",
       "      <td>8</td>\n",
       "      <td>B.E</td>\n",
       "    </tr>\n",
       "    <tr>\n",
       "      <th>2</th>\n",
       "      <td>Parker Chapman</td>\n",
       "      <td>5/12/2014</td>\n",
       "      <td>45000</td>\n",
       "      <td>10</td>\n",
       "      <td>B.E</td>\n",
       "    </tr>\n",
       "  </tbody>\n",
       "</table>\n",
       "</div>"
      ],
      "text/plain": [
       "             Name  Hire Date  Salary  Leaves Remaining Designation\n",
       "0       John Idle  3/15/2014   50000                10         B.E\n",
       "1   Smith Gilliam   6/1/2015   65000                 8         B.E\n",
       "2  Parker Chapman  5/12/2014   45000                10         B.E"
      ]
     },
     "execution_count": 10,
     "metadata": {},
     "output_type": "execute_result"
    }
   ],
   "source": [
    "#ii)Adding columns to csv file using the insert function\n",
    "import pandas as pd\n",
    "Abcd = pd.read_csv(r\"C:\\Users\\tumpalli.himavarsha\\OneDrive - Perficient, Inc\\Abcd.csv\")\n",
    "Abcd.insert(4,column = \"Designation\",value = \"B.E\")\n",
    "Abcd.head()"
   ]
  },
  {
   "cell_type": "markdown",
   "id": "8141266c-7ae1-4f54-a01e-b0a89dd9dfda",
   "metadata": {},
   "source": [
    "ii)Coverting DataFrames to NumpyArray.--used to perform some high-level mathematical functions to dataframe"
   ]
  },
  {
   "cell_type": "code",
   "execution_count": 13,
   "id": "37bdeb99-9882-49b5-9ae0-77fb9a2f73ba",
   "metadata": {},
   "outputs": [
    {
     "name": "stdout",
     "output_type": "stream",
     "text": [
      "The DataFrame is:\n",
      "    x   y   z\n",
      "0  11  21  31\n",
      "1  12  22  32\n",
      "2  13  23  33\n",
      "3  14  24  34\n",
      "The numpy array is:\n"
     ]
    },
    {
     "data": {
      "text/plain": [
       "array([[11, 21, 31],\n",
       "       [12, 22, 32],\n",
       "       [13, 23, 33],\n",
       "       [14, 24, 34]], dtype=int64)"
      ]
     },
     "execution_count": 13,
     "metadata": {},
     "output_type": "execute_result"
    }
   ],
   "source": [
    "import pandas as pd\n",
    "info = pd.DataFrame({'x':[11,12,13,14],'y':[21,22,23,24],'z':[31,32,33,34]})\n",
    "print(\"The DataFrame is:\")\n",
    "print(info)\n",
    "print(\"The numpy array is:\")\n",
    "info.to_numpy()"
   ]
  },
  {
   "cell_type": "code",
   "execution_count": 18,
   "id": "b6624ccf-7786-493c-938e-42743afa36ac",
   "metadata": {},
   "outputs": [
    {
     "name": "stdout",
     "output_type": "stream",
     "text": [
      "    Name   ID Language\n",
      "0  Smith  102        C\n",
      "1   John  104      C++\n",
      "2   Riya  106        R\n",
      "\n",
      "CSV String Values:\n",
      " ,Name,ID,Language\n",
      "0,Smith,102,C\n",
      "1,John,104,C++\n",
      "2,Riya,106,R\n",
      "\n"
     ]
    }
   ],
   "source": [
    "#iii)Converting DataFrames to numpy array\n",
    "import pandas as pd\n",
    "info = pd.DataFrame({'Name':[\"Smith\",\"John\",\"Riya\"],'ID':[102,104,106],'Language':['C','C++','R']})\n",
    "print(info)\n",
    "csv_data = info.to_csv()\n",
    "print('\\nCSV String Values:\\n',csv_data)"
   ]
  },
  {
   "cell_type": "code",
   "execution_count": 19,
   "id": "b2a659c4-c070-4f08-8939-fe89b60d5570",
   "metadata": {},
   "outputs": [
    {
     "name": "stdout",
     "output_type": "stream",
     "text": [
      "    Name   ID Language\n",
      "0  Smith  102        C\n",
      "1   John  104      C++\n",
      "2   Riya  106        R\n",
      "\n",
      "CSV String Values:\n",
      " |Name|ID|Language\n",
      "0|Smith|102|C\n",
      "1|John|104|C++\n",
      "2|Riya|106|R\n",
      "\n"
     ]
    }
   ],
   "source": [
    "#using the to_csv function with the different seperator\n",
    "print(info)\n",
    "csv_data = info.to_csv(sep = '|')\n",
    "print('\\nCSV String Values:\\n',csv_data)"
   ]
  },
  {
   "cell_type": "code",
   "execution_count": 21,
   "id": "20e23270-7a16-465a-b9ef-bd3c1c57b3d7",
   "metadata": {},
   "outputs": [
    {
     "name": "stdout",
     "output_type": "stream",
     "text": [
      "             Name  Hire Date  Salary  Leaves Remaining\n",
      "0       John Idle  3/15/2014   50000                10\n",
      "1   Smith Gilliam   6/1/2015   65000                 8\n",
      "2  Parker Chapman  5/12/2014   45000                10\n",
      "3     Jones Palin  11/1/2013   70000                 3\n",
      "4   Terry Gilliam  8/12/2014   48000                 7\n",
      "5   Michael Palin  5/23/2013   66000                 8\n"
     ]
    }
   ],
   "source": [
    "#(iv)Reading the files using pandas\n",
    "#a)Reaing the CSV file\n",
    "import pandas as pd\n",
    "info = pd.read_csv(r\"C:\\Users\\tumpalli.himavarsha\\OneDrive - Perficient, Inc\\Abcd.csv\")\n",
    "print(info)"
   ]
  },
  {
   "cell_type": "code",
   "execution_count": 24,
   "id": "eadda582-4bb7-4079-91d6-b008552d27e6",
   "metadata": {},
   "outputs": [
    {
     "name": "stdout",
     "output_type": "stream",
     "text": [
      "    Name  Age       City\n",
      "0   Riya   24      Delhi\n",
      "1   John   28      Noida\n",
      "2  Smith   22  Hyderabad\n",
      "3    Roy   25    Chennai\n"
     ]
    }
   ],
   "source": [
    "#b)Reading the JSON file\n",
    "import pandas as pd\n",
    "info = pd.read_json(r\"C:\\Users\\tumpalli.himavarsha\\OneDrive - Perficient, Inc\\Documents\\Output.JSON\")\n",
    "print(info)"
   ]
  },
  {
   "cell_type": "code",
   "execution_count": 27,
   "id": "138e00a1-965f-43ba-9e03-a6c6fe2626b6",
   "metadata": {},
   "outputs": [
    {
     "name": "stdout",
     "output_type": "stream",
     "text": [
      "0    a\n",
      "1    b\n",
      "2    c\n",
      "0    p\n",
      "1    q\n",
      "2    r\n",
      "dtype: object\n"
     ]
    }
   ],
   "source": [
    "#v)Pandas Concatenation--it is used to conatenate the series,dataframe and panel objects.\n",
    "import pandas as pd\n",
    "a = pd.Series(['a','b','c'])\n",
    "b = pd.Series(['p','q','r'])\n",
    "c = pd.concat([a,b])\n",
    "print(c)"
   ]
  },
  {
   "cell_type": "code",
   "execution_count": 29,
   "id": "6a7e8dd7-5fba-4cec-a4a8-1f9198975b36",
   "metadata": {},
   "outputs": [
    {
     "name": "stdout",
     "output_type": "stream",
     "text": [
      "0    a\n",
      "1    b\n",
      "2    c\n",
      "3    p\n",
      "4    q\n",
      "5    r\n",
      "dtype: object\n"
     ]
    }
   ],
   "source": [
    "import pandas as pd\n",
    "a = pd.Series(['a','b','c'])\n",
    "b = pd.Series(['p','q','r'])\n",
    "c = pd.concat([a,b],ignore_index = 'true')\n",
    "print(c)"
   ]
  },
  {
   "cell_type": "code",
   "execution_count": 31,
   "id": "60e734ea-65df-456b-8121-7b9ffc545520",
   "metadata": {},
   "outputs": [
    {
     "name": "stdout",
     "output_type": "stream",
     "text": [
      "a_data  0    a\n",
      "        1    b\n",
      "        2    c\n",
      "b_data  0    p\n",
      "        1    q\n",
      "        2    r\n",
      "dtype: object\n"
     ]
    }
   ],
   "source": [
    "import pandas as pd\n",
    "a = pd.Series(['a','b','c'])\n",
    "b = pd.Series(['p','q','r'])\n",
    "c = pd.concat([a,b],keys = ['a_data','b_data'])\n",
    "print(c)\n",
    "\n"
   ]
  },
  {
   "cell_type": "markdown",
   "id": "e9ef0085-f75c-420d-8f26-3bda9f5e68b5",
   "metadata": {},
   "source": [
    "Pandas Data Operation\n",
    "i)Pandas dropna"
   ]
  },
  {
   "cell_type": "code",
   "execution_count": 35,
   "id": "a3633238-970a-47e7-ae13-12deac6c9d49",
   "metadata": {},
   "outputs": [
    {
     "name": "stdout",
     "output_type": "stream",
     "text": [
      "     P     Q   R     S\n",
      "0  8.0   4.0   2  16.0\n",
      "1  2.0  14.0   5  10.0\n",
      "2  9.0  12.0   7   NaN\n",
      "3  NaN  22.0  16  19.0\n",
      "4  3.0   NaN  13  18.0\n",
      "After dropping the columns having any null values\n",
      "     P     Q  R     S\n",
      "0  8.0   4.0  2  16.0\n",
      "1  2.0  14.0  5  10.0\n"
     ]
    }
   ],
   "source": [
    "#df.dropna()\n",
    "import pandas as pd\n",
    "info =pd.DataFrame({\"P\":[8, 2, 9, None, 3],    \n",
    "                   \"Q\":[4, 14, 12, 22, None],    \n",
    "                   \"R\":[2, 5, 7, 16, 13],    \n",
    "                   \"S\":[16, 10, None, 19, 18]}) \n",
    "print(info)\n",
    "print(\"After dropping the columns having any null values\")\n",
    "a= info.dropna(axis = 0,how = 'any')\n",
    "print(a)\n"
   ]
  },
  {
   "cell_type": "code",
   "execution_count": 37,
   "id": "e092ec43-bcb4-4fab-a210-8c7aa81e0c8b",
   "metadata": {},
   "outputs": [
    {
     "name": "stdout",
     "output_type": "stream",
     "text": [
      "     P     Q   R     S\n",
      "0  8.0   4.0   2  16.0\n",
      "1  2.0  14.0   5  10.0\n",
      "2  9.0  12.0   7   NaN\n",
      "3  NaN  22.0  16  19.0\n",
      "4  3.0   NaN  13  18.0\n",
      "DataFrame after filling\n",
      "     P     Q   R     S\n",
      "0  8.0   4.0   2  16.0\n",
      "1  2.0  14.0   5  10.0\n",
      "2  9.0  12.0   7    No\n",
      "3   No  22.0  16  19.0\n",
      "4  3.0    No  13  18.0\n"
     ]
    }
   ],
   "source": [
    "#Pandas DataFrame.fillna()\n",
    "import pandas as pd\n",
    "info =pd.DataFrame({\"P\":[8, 2, 9, None, 3],    \n",
    "                   \"Q\":[4, 14, 12, 22, None],    \n",
    "                   \"R\":[2, 5, 7, 16, 13],    \n",
    "                   \"S\":[16, 10, None, 19, 18]})\n",
    "print(info)\n",
    "print(\"DataFrame after filling\")\n",
    "a = info.fillna(value = 'No')\n",
    "print(a)"
   ]
  },
  {
   "cell_type": "code",
   "execution_count": 41,
   "id": "1a883cf7-53a7-4155-bd74-05c13be87eef",
   "metadata": {},
   "outputs": [
    {
     "name": "stdout",
     "output_type": "stream",
     "text": [
      "     Name  Age     City\n",
      "0   Smith   22  Newyork\n",
      "1     Roy   26   London\n",
      "2  Sharon   29  Belgium\n",
      "3    Lipi   30       UK\n",
      "After replacing\n",
      "     Name  Age     City\n",
      "0   Smith   22  Newyork\n",
      "1    Kenn   26   London\n",
      "2  Sharon   29  Belgium\n",
      "3    Lipi   30       UK\n"
     ]
    }
   ],
   "source": [
    "#dataframe.replace()---it is used to replace the value \n",
    "import pandas as pd\n",
    "info = pd.DataFrame({'Name':[\"Smith\",\"Roy\",\"Sharon\",\"Lipi\"],\n",
    "                     'Age':[22,26,29,30],\n",
    "                     'City':[\"Newyork\",\"London\",\"Belgium\",\"UK\"]\n",
    "                    })\n",
    "print(info)\n",
    "print(\"After replacing\")\n",
    "a = info.replace({'Roy':'Kenn'})\n",
    "print(a)"
   ]
  },
  {
   "cell_type": "code",
   "execution_count": 49,
   "id": "2dad0382-b812-4bef-814a-f57f37fd8ec4",
   "metadata": {},
   "outputs": [
    {
     "name": "stdout",
     "output_type": "stream",
     "text": [
      "     Name  Age     City\n",
      "0   Smith   22  Newyork\n",
      "1     Roy   26   London\n",
      "2  Sharon   29  Belgium\n",
      "3    Lipi   30       UK\n",
      "\n",
      "     Name  Age     City\n",
      "0   Smith   22  Newyork\n",
      "1     Roy   26   London\n",
      "2  Sharon   29  Belgium\n",
      "3    Lipi   30       UK\n"
     ]
    }
   ],
   "source": [
    "#dataframe.iloc[]--it is used to fetch the data based on index label\n",
    "import pandas as pd\n",
    "info = pd.DataFrame({'Name':[\"Smith\",\"Roy\",\"Sharon\",\"Lipi\"],\n",
    "                     'Age':[22,26,29,30],\n",
    "                     'City':[\"Newyork\",\"London\",\"Belgium\",\"UK\"]\n",
    "                    })\n",
    "print(info)\n",
    "print()\n",
    "a = info.iloc[:4,:3]\n",
    "print(a)"
   ]
  },
  {
   "cell_type": "code",
   "execution_count": 50,
   "id": "24eb0e28-e5fa-470a-a49b-9cf50f6f040a",
   "metadata": {},
   "outputs": [
    {
     "name": "stdout",
     "output_type": "stream",
     "text": [
      "DataFrame\n",
      "-----------\n",
      "    x  y\n",
      "0  1  3\n",
      "1  2  7\n",
      "\n",
      "DataFrame.isin(range(1,6))\n",
      "-----------\n",
      "       x      y\n",
      "0  True   True\n",
      "1  True  False\n"
     ]
    }
   ],
   "source": [
    "#pandas.isin()--it is used to select the rows having a paricular value in a particular column\n",
    "import pandas as pd  \n",
    "#initializing dataframe  \n",
    "info = pd.DataFrame({'x': [1, 2], 'y': [3, 7]})  \n",
    "#check if the values of info are in the range(1,6)  \n",
    "p = info.isin(range(1,6))  \n",
    "print('DataFrame\\n-----------\\n',info)  \n",
    "print('\\nDataFrame.isin(range(1,6))\\n-----------\\n',p)  "
   ]
  },
  {
   "cell_type": "code",
   "execution_count": 53,
   "id": "cfcd09a3-ba33-4a72-b226-946bf5a7559a",
   "metadata": {},
   "outputs": [
    {
     "name": "stdout",
     "output_type": "stream",
     "text": [
      "(2, 2)\n"
     ]
    }
   ],
   "source": [
    "import pandas as pd  \n",
    "#initializing dataframe  \n",
    "info = pd.DataFrame({'x': [1, 2], 'y': [3, 7]})  \n",
    "#check if the values of info are in the range(1,6)  \n",
    "p = info.isin(range(1,8))  \n",
    "#print('DataFrame\\n-----------\\n',info)  \n",
    "#print('\\nDataFrame.isin(range(1,6))\\n-----------\\n',p)  \n",
    "b = info.shape\n",
    "print(b)"
   ]
  },
  {
   "cell_type": "markdown",
   "id": "dbcbbb3c-9645-46d1-898d-2602a4b989ec",
   "metadata": {},
   "source": [
    "Pandas Index:\n",
    "--used to select the particular rows and columns of data from a DataFrame and it is known as Subset selection.\n",
    "--If we want to compare the data accessing time with and without indexing, we can use \"%%timeit\" for comparing the time required for various access-operations.\n",
    "--DataFrame is a combination of indexes,columns and data."
   ]
  },
  {
   "cell_type": "code",
   "execution_count": 65,
   "id": "c8fe7cac-3d66-479b-8d77-4aa394264d7c",
   "metadata": {},
   "outputs": [
    {
     "name": "stdout",
     "output_type": "stream",
     "text": [
      "                Hire Date  Salary  Leaves Remaining\n",
      "Name                                               \n",
      "John Idle       3/15/2014   50000                10\n",
      "Smith Gilliam    6/1/2015   65000                 8\n",
      "Parker Chapman  5/12/2014   45000                10\n",
      " Jones Palin    11/1/2013   70000                 3\n",
      "Terry Gilliam   8/12/2014   48000                 7\n",
      "Michael Palin   5/23/2013   66000                 8\n"
     ]
    }
   ],
   "source": [
    "#indexing in pandas\n",
    "#creating the index by using \"index_col\"\n",
    "import pandas as pd\n",
    "Abcd = pd.read_csv(r\"C:\\Users\\tumpalli.himavarsha\\OneDrive - Perficient, Inc\\Abcd.csv\",index_col = \"Name\")#used to give the name column as index rather than default index \n",
    "#a = Abcd[[\"Hire Date\",\"Salary\"]]\n",
    "#print(a)\n",
    "print(Abcd)"
   ]
  },
  {
   "cell_type": "code",
   "execution_count": 66,
   "id": "f92ab5fd-5461-4f7e-ae18-1847b352f115",
   "metadata": {},
   "outputs": [
    {
     "name": "stdout",
     "output_type": "stream",
     "text": [
      "Name\n",
      "John Idle         50000\n",
      "Smith Gilliam     65000\n",
      "Parker Chapman    45000\n",
      " Jones Palin      70000\n",
      "Terry Gilliam     48000\n",
      "Michael Palin     66000\n",
      "Name: Salary, dtype: int64\n"
     ]
    }
   ],
   "source": [
    "# importing pandas package   \n",
    "import pandas as pd   \n",
    "    \n",
    "# making data frame from csv file   \n",
    "info =pd.read_csv(r\"C:\\Users\\tumpalli.himavarsha\\OneDrive - Perficient, Inc\\Abcd.csv\",index_col = \"Name\")   \n",
    "    \n",
    "# retrieving columns by indexing operator   \n",
    "a =info[\"Salary\"]   \n",
    "print(a)   "
   ]
  },
  {
   "cell_type": "code",
   "execution_count": 80,
   "id": "629e23b7-48e5-4baf-bced-765bef980a6b",
   "metadata": {},
   "outputs": [
    {
     "name": "stdout",
     "output_type": "stream",
     "text": [
      "      Name  Year  Leaves\n",
      "0   Parker  2011      10\n",
      "1    Terry  2009      15\n",
      "2    Smith  2014       9\n",
      "3  William  2010       4\n",
      "\n",
      "Info after indexing\n",
      "         Year  Leaves\n",
      "Name                 \n",
      "Parker   2011      10\n",
      "Terry    2009      15\n",
      "Smith    2014       9\n",
      "William  2010       4\n",
      "\n",
      "After indexing once more\n",
      "              Leaves\n",
      "Name    Year        \n",
      "Parker  2011      10\n",
      "Terry   2009      15\n",
      "Smith   2014       9\n",
      "William 2010       4\n",
      "\n",
      "Indexing after the one last time\n",
      "           Name  Leaves\n",
      "  Year                 \n",
      "1 2011   Parker      10\n",
      "2 2009    Terry      15\n",
      "3 2014    Smith       9\n",
      "4 2010  William       4\n",
      "\n",
      "Modifying the index last\n",
      "         Name  Year  Leaves\n",
      "1 1    Parker  2011      10\n",
      "2 4     Terry  2009      15\n",
      "3 9     Smith  2014       9\n",
      "4 16  William  2010       4\n"
     ]
    }
   ],
   "source": [
    "#set_index--used to set the DataFrame index using the existing columns\n",
    "info = pd.DataFrame({'Name': ['Parker', 'Terry', 'Smith', 'William'],  \n",
    "'Year': [2011, 2009, 2014, 2010],  \n",
    "'Leaves': [10, 15, 9, 4]})  \n",
    "print(info) \n",
    "print()\n",
    "print(\"Info after indexing\")\n",
    "a = info.set_index('Name')\n",
    "print(a)\n",
    "print()\n",
    "print(\"After indexing once more\") \n",
    "b=info.set_index(['Name','Year'])  \n",
    "print(b)\n",
    "print()\n",
    "print(\"Indexing after the one last time\")\n",
    "c = info.set_index([pd.Index([1, 2, 3, 4]), 'Year'])\n",
    "print(c)\n",
    "print()\n",
    "d = pd.Series([1, 2, 3, 4])  \n",
    "e = info.set_index([d, d**2])\n",
    "print(\"Modifying the index last\")\n",
    "print(e)"
   ]
  },
  {
   "cell_type": "markdown",
   "id": "9cbfe8cc-5f05-4b0b-ad06-80bf7eebf8d5",
   "metadata": {},
   "source": [
    "#Multiple index in Pandas\n",
    "#it allows to have multiple indices in dataframe\n",
    "#it allows to select one or more columns in index.\n",
    "#Multiindex.from_arrays,Multiindex.from_tuples,Multiindex.from_product,Multiindex.from_frame\n",
    "#Syntax:pandas.MultiIndex(levels=None, codes=None, sortorder=None, names=None, dtype=None, copy=False, name=None, verify_integrity=True)"
   ]
  },
  {
   "cell_type": "code",
   "execution_count": 89,
   "id": "508d5d59-8cf5-4725-9275-2ed4e3205da0",
   "metadata": {},
   "outputs": [
    {
     "name": "stdout",
     "output_type": "stream",
     "text": [
      "                 Name  Year  Leaves\n",
      "Name    Year                       \n",
      "Alice   2020    Alice  2020      10\n",
      "Bob     2021      Bob  2021      15\n",
      "Charlie 2020  Charlie  2020       9\n",
      "David   2021    David  2021       4\n",
      "\n",
      "Info after indexing\n",
      "                 Name  Year  Leaves\n",
      "Name    Year                       \n",
      "Alice   2020    Alice  2020      10\n",
      "Bob     2021      Bob  2021      15\n",
      "Charlie 2020  Charlie  2020       9\n",
      "David   2021    David  2021       4\n"
     ]
    }
   ],
   "source": [
    "import pandas as pd\n",
    "Data = { \n",
    "         'Name': ['Parker', 'Terry', 'Smith', 'William'],  \n",
    "         'Year': [2011, 2009, 2014, 2010],  \n",
    "         'Leaves': [10, 15, 9, 4]\n",
    "       } \n",
    "info = pd.DataFrame(info)\n",
    "print(info) \n",
    "print()\n",
    "print(\"Info after indexing\")\n",
    "a = pd.MultiIndex.from_frame(info[['Name','Year']])\n",
    "info.index = a\n",
    "print(info)"
   ]
  },
  {
   "cell_type": "markdown",
   "id": "f9579d72-71c9-44bf-b8a6-29ba6c6f388d",
   "metadata": {},
   "source": [
    "#Reindexing in Pandas\n",
    "#Conform dataframe to a new index with optional filling logic and to place NA/NaN in location where the values are not present in the previous index.\n",
    "#Reindexing is used to change the index of the rows and columns of the DataFrame.Can reindex the single or multiple rows by using the reindex() \n",
    "method. Default values in the new index are assigned NaN if it is not present in the DataFrame.\n",
    "Syntax:DataFrame.reindex(labels=None, index=None, columns=None, axis=None, method=None,copy=True, level=None, fill_value=nan, limit=None, tolerance= None)"
   ]
  },
  {
   "cell_type": "code",
   "execution_count": 96,
   "id": "52f188b6-4918-4bdc-8e3a-848ce6f72586",
   "metadata": {},
   "outputs": [
    {
     "name": "stdout",
     "output_type": "stream",
     "text": [
      "         P   Q   R   S\n",
      "Parker   4   6  17  15\n",
      "William  7   8  13  19\n",
      "Smith    1  10  12   7\n",
      "Terry    8  15  16  21\n",
      "Phill    9  11  14   9\n",
      "\n",
      "After reindexing\n",
      "     P    Q    R    S\n",
      "A  100  100  100  100\n",
      "B  100  100  100  100\n",
      "C  100  100  100  100\n",
      "D  100  100  100  100\n",
      "E  100  100  100  100\n",
      "          T   U   V   W\n",
      "Parker   NO  NO  NO  NO\n",
      "William  NO  NO  NO  NO\n",
      "Smith    NO  NO  NO  NO\n",
      "Terry    NO  NO  NO  NO\n",
      "Phill    NO  NO  NO  NO\n"
     ]
    }
   ],
   "source": [
    "#Reindexing in Pandas\n",
    "import pandas as pd  \n",
    "# Create dataframe  \n",
    "info = pd.DataFrame({\"P\":[4, 7, 1, 8, 9],   \n",
    "                   \"Q\":[6, 8, 10, 15, 11],   \n",
    "                   \"R\":[17, 13, 12, 16, 14],   \n",
    "                   \"S\":[15, 19, 7, 21, 9]},   \n",
    "                   index =[\"Parker\", \"William\", \"Smith\", \"Terry\", \"Phill\"])   \n",
    "# Print dataframe  \n",
    "print(info) \n",
    "print()\n",
    "print(\"After reindexing\")\n",
    "a = info.reindex([\"A\",\"B\",\"C\",\"D\",\"E\"],fill_value = 100)\n",
    "print(a)\n",
    "b = info.reindex(columns = ['T','U','V','W'],fill_value = 'NO')\n",
    "print(b)"
   ]
  },
  {
   "cell_type": "markdown",
   "id": "74d8aa3c-9f4e-4f56-a16b-38ba3732f2a4",
   "metadata": {},
   "source": [
    "#Reset Index\n",
    "#--used to reset the index in the dataframe,if the dataframe has multiple indexes then it can remove one or more levels\n",
    "#Syntax:DataFrame.reset_index(self, level=None, drop=False, inplace=False, col_level=0, col_fill='')"
   ]
  },
  {
   "cell_type": "code",
   "execution_count": 103,
   "id": "f5c7d92c-8753-421e-b380-027f0f662aa8",
   "metadata": {},
   "outputs": [
    {
     "name": "stdout",
     "output_type": "stream",
     "text": [
      "     index  P   Q   R   S\n",
      "0   Parker  4   6  17  15\n",
      "1  William  7   8  13  19\n",
      "2    Smith  1  10  12   7\n",
      "3    Terry  8  15  16  21\n",
      "4    Phill  9  11  14   9\n"
     ]
    }
   ],
   "source": [
    "#Reset index\n",
    "import pandas as pd\n",
    "info = {\n",
    "         \"P\":[4, 7, 1, 8, 9],   \n",
    "         \"Q\":[6, 8, 10, 15, 11],   \n",
    "         \"R\":[17, 13, 12, 16, 14],   \n",
    "         \"S\":[15, 19, 7, 21, 9]\n",
    "       } \n",
    "index =[\"Parker\", \"William\", \"Smith\", \"Terry\", \"Phill\"]  \n",
    "a = pd.DataFrame(info,index)\n",
    "b = a.reset_index(drop = False)\n",
    "print(b)"
   ]
  },
  {
   "cell_type": "markdown",
   "id": "0916e2a4-2565-46ec-9b2c-0b96cc3b2e61",
   "metadata": {},
   "source": [
    "#Set index --is used to set a List, Series or DataFrame as index of a Data Frame.\n",
    "#Syntax:DataFrame.set_index(self, keys, drop=True, append=False, inplace=False, verify_integrity=False)"
   ]
  },
  {
   "cell_type": "markdown",
   "id": "b93eced2-bae8-4f8d-b9e8-f72d4acdea31",
   "metadata": {},
   "source": [
    "import pandas as pd\n",
    "info = {\n",
    "         'Name':[\"Smith\",\"Roy\",\"John\",\"Lipi\"],\n",
    "         'Age':[25,28,26,24],\n",
    "         'Id':[104,105,106,108]\n",
    "       }\n",
    "df = pd.DataFrame(info)\n",
    "a = df.set_index(['Name','Id'])\n",
    "print(a)"
   ]
  },
  {
   "cell_type": "markdown",
   "id": "a6da70ce-b9cb-4935-bce2-8bac58fff862",
   "metadata": {},
   "source": [
    "Pandas Numpy--used to process multi-dimensional and single-dimensional array elements."
   ]
  },
  {
   "cell_type": "code",
   "execution_count": 107,
   "id": "9745f694-7bdc-4930-9ae9-0981f5dfbad6",
   "metadata": {},
   "outputs": [
    {
     "name": "stdout",
     "output_type": "stream",
     "text": [
      "2\n",
      "4\n",
      "6\n",
      "8\n",
      "10\n"
     ]
    }
   ],
   "source": [
    "import array\n",
    "import pandas as pd \n",
    "arr = array.array('I',[2,4,6,8,10,12])\n",
    "for i in range(0,5):\n",
    "    print(arr[i])"
   ]
  },
  {
   "cell_type": "code",
   "execution_count": 112,
   "id": "466b3274-2191-42c7-b7bb-a32944ce351a",
   "metadata": {},
   "outputs": [
    {
     "name": "stdout",
     "output_type": "stream",
     "text": [
      "          name age\n",
      "True     Smith  28\n",
      "True   William  39\n",
      "False    Phill  34\n",
      "True    Parker  36\n",
      "\n",
      "<pandas.core.indexing._LocIndexer object at 0x00000250196A7A10>\n"
     ]
    }
   ],
   "source": [
    "#Boolean indexing in pandas numpy \n",
    "#Its main task is to use the actual values of the data in the DataFrame. We can filter the data in the boolean indexing in different ways.\n",
    "import pandas as pd  \n",
    "#dictionary of lists   \n",
    "dict = {'name':[\"Smith\", \"William\", \"Phill\", \"Parker\"],   \n",
    "        'age': [\"28\", \"39\", \"34\", \"36\"]}   \n",
    "info = pd.DataFrame(dict, index = [True, True, False, True])   \n",
    "print(info)\n",
    "print()\n",
    "print(info.loc(True))"
   ]
  },
  {
   "cell_type": "code",
   "execution_count": 121,
   "id": "c55bc1b9-8d1a-40de-9706-3f034a144f5d",
   "metadata": {},
   "outputs": [
    {
     "name": "stdout",
     "output_type": "stream",
     "text": [
      "[0 1 2 3 4 5 6 7 8]\n",
      "\n",
      "[[0 1 2]\n",
      " [3 4 5]\n",
      " [6 7 8]]\n",
      "[ 9 10 11 12 13 14 15 16 17]\n",
      "\n",
      "[[ 9 10 11]\n",
      " [12 13 14]\n",
      " [15 16 17]]\n",
      "\n",
      "[[ 0  1  2]\n",
      " [ 3  4  5]\n",
      " [ 6  7  8]\n",
      " [ 9 10 11]\n",
      " [12 13 14]\n",
      " [15 16 17]]\n"
     ]
    }
   ],
   "source": [
    "#concatenating in numpy--used to concatenate two arrays either row-wise or column-wise and concatenates row-wise by default.\n",
    "import pandas as pd\n",
    "import numpy as np\n",
    "\n",
    "a = np.arange(9)\n",
    "print(a)\n",
    "print()\n",
    "b = a.reshape(3,3)\n",
    "print(b)\n",
    "c = np.arange(9,18)\n",
    "print(c)\n",
    "print()\n",
    "d = c.reshape(3,3)\n",
    "print(d)\n",
    "e = np.concatenate((b,d))\n",
    "print()\n",
    "print(e)"
   ]
  },
  {
   "cell_type": "code",
   "execution_count": 122,
   "id": "d7fa3b80-2439-48a6-89d0-982ee233946c",
   "metadata": {},
   "outputs": [
    {
     "name": "stdout",
     "output_type": "stream",
     "text": [
      "       Name   id\n",
      "x A  Parker  108\n",
      "  B   Phill  119\n",
      "  C   Smith  127\n",
      "y A   Terry  102\n",
      "  B   Jones  125\n",
      "  C    John  112\n"
     ]
    }
   ],
   "source": [
    "import pandas as pd  \n",
    "one = pd.DataFrame({'Name': ['Parker', 'Phill', 'Smith'],'id':[108,119,127]},index=['A','B','C'])  \n",
    "two = pd.DataFrame({'Name': ['Terry', 'Jones', 'John'],    \n",
    "                    'id':[102,125,112]},  \n",
    "index=['A','B','C'])  \n",
    "print(pd.concat([one,two],keys=['x','y']))  "
   ]
  },
  {
   "cell_type": "code",
   "execution_count": null,
   "id": "4d3dedfc-b92b-462e-8442-81f242a4b742",
   "metadata": {},
   "outputs": [],
   "source": []
  }
 ],
 "metadata": {
  "kernelspec": {
   "display_name": "Python 3 (ipykernel)",
   "language": "python",
   "name": "python3"
  },
  "language_info": {
   "codemirror_mode": {
    "name": "ipython",
    "version": 3
   },
   "file_extension": ".py",
   "mimetype": "text/x-python",
   "name": "python",
   "nbconvert_exporter": "python",
   "pygments_lexer": "ipython3",
   "version": "3.10.11"
  }
 },
 "nbformat": 4,
 "nbformat_minor": 5
}
